{
 "cells": [
  {
   "cell_type": "markdown",
   "id": "cae8b4ee",
   "metadata": {},
   "source": [
    "# Auto- and Partial Autocorrelation Matrices\n",
    "> Module for computing auto- and partial autocorrelation matrices"
   ]
  },
  {
   "cell_type": "code",
   "execution_count": null,
   "id": "3201f1d9",
   "metadata": {},
   "outputs": [],
   "source": [
    "#| default_exp corrmat"
   ]
  },
  {
   "cell_type": "code",
   "execution_count": null,
   "id": "4f6397fa",
   "metadata": {},
   "outputs": [],
   "source": [
    "#| export\n",
    "#| hide\n",
    "import pandas as pd\n",
    "import numpy as np\n",
    "import matplotlib.cm as cm\n",
    "import matplotlib.pyplot as plt\n",
    "import pingouin as pg\n",
    "from dPCA.lag import *"
   ]
  },
  {
   "cell_type": "code",
   "execution_count": null,
   "id": "719874e9",
   "metadata": {},
   "outputs": [
    {
     "data": {
      "text/html": [
       "<div>\n",
       "<style scoped>\n",
       "    .dataframe tbody tr th:only-of-type {\n",
       "        vertical-align: middle;\n",
       "    }\n",
       "\n",
       "    .dataframe tbody tr th {\n",
       "        vertical-align: top;\n",
       "    }\n",
       "\n",
       "    .dataframe thead th {\n",
       "        text-align: right;\n",
       "    }\n",
       "</style>\n",
       "<table border=\"1\" class=\"dataframe\">\n",
       "  <thead>\n",
       "    <tr style=\"text-align: right;\">\n",
       "      <th></th>\n",
       "      <th>0</th>\n",
       "      <th>1</th>\n",
       "      <th>2</th>\n",
       "    </tr>\n",
       "  </thead>\n",
       "  <tbody>\n",
       "    <tr>\n",
       "      <th>0</th>\n",
       "      <td>2</td>\n",
       "      <td>3</td>\n",
       "      <td>4</td>\n",
       "    </tr>\n",
       "    <tr>\n",
       "      <th>1</th>\n",
       "      <td>5</td>\n",
       "      <td>6</td>\n",
       "      <td>7</td>\n",
       "    </tr>\n",
       "    <tr>\n",
       "      <th>2</th>\n",
       "      <td>8</td>\n",
       "      <td>8</td>\n",
       "      <td>6</td>\n",
       "    </tr>\n",
       "    <tr>\n",
       "      <th>3</th>\n",
       "      <td>9</td>\n",
       "      <td>10</td>\n",
       "      <td>3</td>\n",
       "    </tr>\n",
       "    <tr>\n",
       "      <th>4</th>\n",
       "      <td>11</td>\n",
       "      <td>4</td>\n",
       "      <td>6</td>\n",
       "    </tr>\n",
       "  </tbody>\n",
       "</table>\n",
       "</div>"
      ],
      "text/plain": [
       "    0   1  2\n",
       "0   2   3  4\n",
       "1   5   6  7\n",
       "2   8   8  6\n",
       "3   9  10  3\n",
       "4  11   4  6"
      ]
     },
     "execution_count": null,
     "metadata": {},
     "output_type": "execute_result"
    }
   ],
   "source": [
    "X = pd.DataFrame([[2,3,4],[5,6,7],[8,8,6],[9,10,3],[11,4,6]]); X"
   ]
  },
  {
   "cell_type": "code",
   "execution_count": null,
   "id": "daaf6c80",
   "metadata": {},
   "outputs": [
    {
     "data": {
      "text/html": [
       "<div>\n",
       "<style scoped>\n",
       "    .dataframe tbody tr th:only-of-type {\n",
       "        vertical-align: middle;\n",
       "    }\n",
       "\n",
       "    .dataframe tbody tr th {\n",
       "        vertical-align: top;\n",
       "    }\n",
       "\n",
       "    .dataframe thead tr th {\n",
       "        text-align: left;\n",
       "    }\n",
       "</style>\n",
       "<table border=\"1\" class=\"dataframe\">\n",
       "  <thead>\n",
       "    <tr>\n",
       "      <th>Variable</th>\n",
       "      <th>0</th>\n",
       "      <th>1</th>\n",
       "      <th>2</th>\n",
       "      <th>0</th>\n",
       "      <th>1</th>\n",
       "      <th>2</th>\n",
       "    </tr>\n",
       "    <tr>\n",
       "      <th>Time</th>\n",
       "      <th>t</th>\n",
       "      <th>t</th>\n",
       "      <th>t</th>\n",
       "      <th>t-1</th>\n",
       "      <th>t-1</th>\n",
       "      <th>t-1</th>\n",
       "    </tr>\n",
       "  </thead>\n",
       "  <tbody>\n",
       "    <tr>\n",
       "      <th>0</th>\n",
       "      <td>5</td>\n",
       "      <td>6</td>\n",
       "      <td>7</td>\n",
       "      <td>2</td>\n",
       "      <td>3</td>\n",
       "      <td>4</td>\n",
       "    </tr>\n",
       "    <tr>\n",
       "      <th>1</th>\n",
       "      <td>8</td>\n",
       "      <td>8</td>\n",
       "      <td>6</td>\n",
       "      <td>5</td>\n",
       "      <td>6</td>\n",
       "      <td>7</td>\n",
       "    </tr>\n",
       "    <tr>\n",
       "      <th>2</th>\n",
       "      <td>9</td>\n",
       "      <td>10</td>\n",
       "      <td>3</td>\n",
       "      <td>8</td>\n",
       "      <td>8</td>\n",
       "      <td>6</td>\n",
       "    </tr>\n",
       "    <tr>\n",
       "      <th>3</th>\n",
       "      <td>11</td>\n",
       "      <td>4</td>\n",
       "      <td>6</td>\n",
       "      <td>9</td>\n",
       "      <td>10</td>\n",
       "      <td>3</td>\n",
       "    </tr>\n",
       "  </tbody>\n",
       "</table>\n",
       "</div>"
      ],
      "text/plain": [
       "Variable   0   1  2   0   1   2\n",
       "Time       t   t  t t-1 t-1 t-1\n",
       "0          5   6  7   2   3   4\n",
       "1          8   8  6   5   6   7\n",
       "2          9  10  3   8   8   6\n",
       "3         11   4  6   9  10   3"
      ]
     },
     "execution_count": null,
     "metadata": {},
     "output_type": "execute_result"
    }
   ],
   "source": [
    "lag_uniform(X,1)"
   ]
  },
  {
   "cell_type": "markdown",
   "id": "ece9a9c9",
   "metadata": {},
   "source": [
    "Here we define the so-called imposter matrix, which will be used for comparing correlation matrices against randomly shuffled ones to determine when a correlation is better than a random one."
   ]
  },
  {
   "cell_type": "code",
   "execution_count": null,
   "id": "dc3ef450",
   "metadata": {},
   "outputs": [],
   "source": [
    "#| export\n",
    "def imposter_matrix(X: pd.DataFrame, # Matrix to be randomized\n",
    "                   random_state = 42, # Random state to be used\n",
    "                   )-> pd.DataFrame: # The input matrix with shuffled values for each column\n",
    "    d = pd.DataFrame(0, index=np.arange(len(X)), columns=X.columns)\n",
    "    \n",
    "    for column in d:\n",
    "        d[column] = X[column].sample(frac = 1, random_state=random_state).reset_index(drop=True)\n",
    "        \n",
    "    return d\n",
    "    "
   ]
  },
  {
   "cell_type": "code",
   "execution_count": null,
   "id": "f49efc28",
   "metadata": {},
   "outputs": [
    {
     "data": {
      "text/html": [
       "<div>\n",
       "<style scoped>\n",
       "    .dataframe tbody tr th:only-of-type {\n",
       "        vertical-align: middle;\n",
       "    }\n",
       "\n",
       "    .dataframe tbody tr th {\n",
       "        vertical-align: top;\n",
       "    }\n",
       "\n",
       "    .dataframe thead th {\n",
       "        text-align: right;\n",
       "    }\n",
       "</style>\n",
       "<table border=\"1\" class=\"dataframe\">\n",
       "  <thead>\n",
       "    <tr style=\"text-align: right;\">\n",
       "      <th></th>\n",
       "      <th>0</th>\n",
       "      <th>1</th>\n",
       "      <th>2</th>\n",
       "    </tr>\n",
       "  </thead>\n",
       "  <tbody>\n",
       "    <tr>\n",
       "      <th>0</th>\n",
       "      <td>5</td>\n",
       "      <td>6</td>\n",
       "      <td>7</td>\n",
       "    </tr>\n",
       "    <tr>\n",
       "      <th>1</th>\n",
       "      <td>11</td>\n",
       "      <td>4</td>\n",
       "      <td>6</td>\n",
       "    </tr>\n",
       "    <tr>\n",
       "      <th>2</th>\n",
       "      <td>8</td>\n",
       "      <td>8</td>\n",
       "      <td>6</td>\n",
       "    </tr>\n",
       "    <tr>\n",
       "      <th>3</th>\n",
       "      <td>2</td>\n",
       "      <td>3</td>\n",
       "      <td>4</td>\n",
       "    </tr>\n",
       "    <tr>\n",
       "      <th>4</th>\n",
       "      <td>9</td>\n",
       "      <td>10</td>\n",
       "      <td>3</td>\n",
       "    </tr>\n",
       "  </tbody>\n",
       "</table>\n",
       "</div>"
      ],
      "text/plain": [
       "    0   1  2\n",
       "0   5   6  7\n",
       "1  11   4  6\n",
       "2   8   8  6\n",
       "3   2   3  4\n",
       "4   9  10  3"
      ]
     },
     "execution_count": null,
     "metadata": {},
     "output_type": "execute_result"
    }
   ],
   "source": [
    "imposter_matrix(X)"
   ]
  },
  {
   "cell_type": "code",
   "execution_count": null,
   "id": "67af4f60",
   "metadata": {},
   "outputs": [],
   "source": [
    "#| export\n",
    "def correlation_matrix(X: pd.DataFrame, # Matrix 1 for calculating the correlation matrix\n",
    "                       y: pd.DataFrame, # Matrix 2 for calculating the correlation matrix\n",
    "                      )-> np.ndarray: # Correlation matrix as a Numpy array\n",
    "    n = np.shape(X)[0]\n",
    "    \n",
    "    X_scaled = (X-np.mean(X,axis = 0))/np.std(X, axis = 0, ddof = 1)\n",
    "    y_scaled = (y-np.mean(y,axis = 0))/np.std(y, axis = 0, ddof = 1)\n",
    "    \n",
    "    correlation_matrix = np.dot(y_scaled.T,X_scaled) / (n-1)\n",
    "    \n",
    "    return correlation_matrix\n",
    "    "
   ]
  },
  {
   "cell_type": "code",
   "execution_count": null,
   "id": "479e98c5",
   "metadata": {},
   "outputs": [
    {
     "data": {
      "text/plain": [
       "array([[ 1.        ,  0.41978508,  0.0860663 ],\n",
       "       [ 0.41978508,  1.        , -0.27628324],\n",
       "       [ 0.0860663 , -0.27628324,  1.        ]])"
      ]
     },
     "execution_count": null,
     "metadata": {},
     "output_type": "execute_result"
    }
   ],
   "source": [
    "correlation_matrix(X,X)"
   ]
  },
  {
   "cell_type": "code",
   "execution_count": null,
   "id": "b1c530c0",
   "metadata": {},
   "outputs": [],
   "source": [
    "#| export\n",
    "def ACM(X: pd.DataFrame, # Dataframe of raw data for which to calculate the ACM\n",
    "        lag: int, # Lag to calculate correlation against\n",
    "        )-> pd.DataFrame: # Autocorrelation Matrix (ACM)\n",
    "    \n",
    "    n = np.shape(X)[0] # Number of observations\n",
    "    p = np.shape(X)[1] # Number of variables\n",
    "    \n",
    "    X_val = X.values\n",
    "    l = lag\n",
    "    \n",
    "    \n",
    "    Xtrim = X_val[:n-l] # Observations from start to n-lag\n",
    "    Xlag =  X_val[l:]   # Observations from lag to end\n",
    "    \n",
    "    # Calculate correlation matrix between Xtrim and Xlag\n",
    "    ACM = correlation_matrix(Xtrim, Xlag)\n",
    "    \n",
    "    # New column names\n",
    "    t0 = ['t' for i in range(p)]\n",
    "    columns = [X.columns.to_list(),t0]\n",
    "    \n",
    "    # New index names\n",
    "    t = ['t-'+f'{lag}' for i in range(p)]\n",
    "    index = [X.columns.to_list(),t]\n",
    "    \n",
    "    ACM = pd.DataFrame(ACM)\n",
    "    ACM.index = index\n",
    "    ACM.columns = columns\n",
    "    \n",
    "    return ACM"
   ]
  },
  {
   "cell_type": "code",
   "execution_count": null,
   "id": "dd3fdf31",
   "metadata": {},
   "outputs": [
    {
     "data": {
      "text/html": [
       "<div>\n",
       "<style scoped>\n",
       "    .dataframe tbody tr th:only-of-type {\n",
       "        vertical-align: middle;\n",
       "    }\n",
       "\n",
       "    .dataframe tbody tr th {\n",
       "        vertical-align: top;\n",
       "    }\n",
       "\n",
       "    .dataframe thead tr th {\n",
       "        text-align: left;\n",
       "    }\n",
       "</style>\n",
       "<table border=\"1\" class=\"dataframe\">\n",
       "  <thead>\n",
       "    <tr>\n",
       "      <th></th>\n",
       "      <th></th>\n",
       "      <th>0</th>\n",
       "      <th>1</th>\n",
       "      <th>2</th>\n",
       "    </tr>\n",
       "    <tr>\n",
       "      <th></th>\n",
       "      <th></th>\n",
       "      <th>t</th>\n",
       "      <th>t</th>\n",
       "      <th>t</th>\n",
       "    </tr>\n",
       "  </thead>\n",
       "  <tbody>\n",
       "    <tr>\n",
       "      <th>0</th>\n",
       "      <th>t-2</th>\n",
       "      <td>0.981981</td>\n",
       "      <td>0.953821</td>\n",
       "      <td>0.500000</td>\n",
       "    </tr>\n",
       "    <tr>\n",
       "      <th>1</th>\n",
       "      <th>t-2</th>\n",
       "      <td>-0.654654</td>\n",
       "      <td>-0.563621</td>\n",
       "      <td>0.142857</td>\n",
       "    </tr>\n",
       "    <tr>\n",
       "      <th>2</th>\n",
       "      <th>t-2</th>\n",
       "      <td>0.000000</td>\n",
       "      <td>-0.114708</td>\n",
       "      <td>-0.755929</td>\n",
       "    </tr>\n",
       "  </tbody>\n",
       "</table>\n",
       "</div>"
      ],
      "text/plain": [
       "              0         1         2\n",
       "              t         t         t\n",
       "0 t-2  0.981981  0.953821  0.500000\n",
       "1 t-2 -0.654654 -0.563621  0.142857\n",
       "2 t-2  0.000000 -0.114708 -0.755929"
      ]
     },
     "execution_count": null,
     "metadata": {},
     "output_type": "execute_result"
    }
   ],
   "source": [
    "ACM(X,2)"
   ]
  },
  {
   "cell_type": "code",
   "execution_count": null,
   "id": "f4d49108",
   "metadata": {},
   "outputs": [],
   "source": [
    "#| export\n",
    "def partial_correlation_matrix(X: pd.DataFrame, # Matrix for calculating partial correlation\n",
    "                       )-> np.ndarray: # Partial correlation matrix as a Numpy array \n",
    "    V = X.cov()\n",
    "    Vi = np.linalg.pinv(V)\n",
    "    D = np.diag(np.sqrt(1/np.diag(Vi)))\n",
    "    pcor = -1 * (D @ Vi @ D)\n",
    "    pcor[np.diag_indices_from(pcor)] = 1\n",
    "    \n",
    "    return pcor"
   ]
  },
  {
   "cell_type": "code",
   "execution_count": null,
   "id": "c12ba168",
   "metadata": {},
   "outputs": [
    {
     "data": {
      "text/plain": [
       "array([[ 1.        ,  0.46324708,  0.23162552],\n",
       "       [ 0.46324708,  1.        , -0.34549142],\n",
       "       [ 0.23162552, -0.34549142,  1.        ]])"
      ]
     },
     "execution_count": null,
     "metadata": {},
     "output_type": "execute_result"
    }
   ],
   "source": [
    "partial_correlation_matrix(X)"
   ]
  },
  {
   "cell_type": "code",
   "execution_count": null,
   "id": "04ab5ebb",
   "metadata": {},
   "outputs": [],
   "source": [
    "#| export\n",
    "def PACM(X: pd.DataFrame, # Matrix for calculating partial autocorrelation\n",
    "         lag: int, # Lag to calculate partial correlation against\n",
    "        ):\n",
    "    \n",
    "    p = np.shape(X)[1]\n",
    "    \n",
    "    X_lag = lag_uniform(X, lag)\n",
    "    \n",
    "    pcor_mat = partial_correlation_matrix(X_lag)\n",
    "    \n",
    "    pcor_df = pd.DataFrame(pcor_mat)\n",
    "    pcor_df.columns = X_lag.columns\n",
    "    pcor_df.index = X_lag.columns\n",
    "    \n",
    "    \n",
    "    PACM = pcor_df.iloc[lag*p:(lag*p+p),0:p]\n",
    "    \n",
    "    return PACM"
   ]
  },
  {
   "cell_type": "code",
   "execution_count": null,
   "id": "1a8e68ed",
   "metadata": {},
   "outputs": [
    {
     "data": {
      "text/html": [
       "<div>\n",
       "<style scoped>\n",
       "    .dataframe tbody tr th:only-of-type {\n",
       "        vertical-align: middle;\n",
       "    }\n",
       "\n",
       "    .dataframe tbody tr th {\n",
       "        vertical-align: top;\n",
       "    }\n",
       "\n",
       "    .dataframe thead tr th {\n",
       "        text-align: left;\n",
       "    }\n",
       "\n",
       "    .dataframe thead tr:last-of-type th {\n",
       "        text-align: right;\n",
       "    }\n",
       "</style>\n",
       "<table border=\"1\" class=\"dataframe\">\n",
       "  <thead>\n",
       "    <tr>\n",
       "      <th></th>\n",
       "      <th>Variable</th>\n",
       "      <th>0</th>\n",
       "      <th>1</th>\n",
       "      <th>2</th>\n",
       "    </tr>\n",
       "    <tr>\n",
       "      <th></th>\n",
       "      <th>Time</th>\n",
       "      <th>t</th>\n",
       "      <th>t</th>\n",
       "      <th>t</th>\n",
       "    </tr>\n",
       "    <tr>\n",
       "      <th>Variable</th>\n",
       "      <th>Time</th>\n",
       "      <th></th>\n",
       "      <th></th>\n",
       "      <th></th>\n",
       "    </tr>\n",
       "  </thead>\n",
       "  <tbody>\n",
       "    <tr>\n",
       "      <th>0</th>\n",
       "      <th>t-2</th>\n",
       "      <td>-0.807661</td>\n",
       "      <td>-0.109185</td>\n",
       "      <td>0.375985</td>\n",
       "    </tr>\n",
       "    <tr>\n",
       "      <th>1</th>\n",
       "      <th>t-2</th>\n",
       "      <td>-0.606224</td>\n",
       "      <td>-0.387828</td>\n",
       "      <td>0.624375</td>\n",
       "    </tr>\n",
       "    <tr>\n",
       "      <th>2</th>\n",
       "      <th>t-2</th>\n",
       "      <td>0.018772</td>\n",
       "      <td>-0.876408</td>\n",
       "      <td>0.974483</td>\n",
       "    </tr>\n",
       "  </tbody>\n",
       "</table>\n",
       "</div>"
      ],
      "text/plain": [
       "Variable              0         1         2\n",
       "Time                  t         t         t\n",
       "Variable Time                              \n",
       "0        t-2  -0.807661 -0.109185  0.375985\n",
       "1        t-2  -0.606224 -0.387828  0.624375\n",
       "2        t-2   0.018772 -0.876408  0.974483"
      ]
     },
     "execution_count": null,
     "metadata": {},
     "output_type": "execute_result"
    }
   ],
   "source": [
    "PACM(X,2)"
   ]
  },
  {
   "cell_type": "code",
   "execution_count": null,
   "id": "7f43f117",
   "metadata": {},
   "outputs": [],
   "source": [
    "#| hide\n",
    "import nbdev; nbdev.nbdev_export()"
   ]
  }
 ],
 "metadata": {
  "kernelspec": {
   "display_name": "python3",
   "language": "python",
   "name": "python3"
  }
 },
 "nbformat": 4,
 "nbformat_minor": 5
}
